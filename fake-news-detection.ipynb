{
 "cells": [
  {
   "cell_type": "markdown",
   "id": "2693c416",
   "metadata": {
    "id": "zNosEPLZsx0f",
    "papermill": {
     "duration": 0.037585,
     "end_time": "2021-11-23T13:30:17.881765",
     "exception": false,
     "start_time": "2021-11-23T13:30:17.844180",
     "status": "completed"
    },
    "tags": []
   },
   "source": [
    "**What Is Fake News ?**\n",
    "\n",
    "False news, also known as unwanted news, false stories, misconceptions or fraudulent stories, types of stories that contain deliberate information or frauds that are spread through traditional media (print and broadcast) or online media. Digital news has revived and increased the use of fake news, or yellow journalism. These stories are often referred to as information that is not in the media but sometimes finds its way into the mainstream media as well.\n",
    "\n",
    "\n",
    "*   It causes panic\n",
    "*   Damaging the reputation of public and private organizations\n",
    "*   It deceives the people, for the benefit of the deceivers\n",
    "*   Motivated by a personal vendetta, some people support such things.\n",
    "\n",
    "<br>\n",
    "<br>\n",
    "\n",
    "**PROBLEM :** \n",
    "<br>\n",
    "How to distinguish between a real news and a fake news?\n",
    "\n",
    "<br>\n",
    "<br>\n",
    "\n",
    "**SOLUTION :**\n",
    "\n",
    "We can show an algorithm that has a large number of false and real news stories to learn to distinguish between them automatically, and then give a possible score or percentage of confidence such as a given news release is true or false."
   ]
  },
  {
   "cell_type": "markdown",
   "id": "00a944fd",
   "metadata": {
    "id": "XWC8Yl8NrTVI",
    "papermill": {
     "duration": 0.033822,
     "end_time": "2021-11-23T13:30:17.952366",
     "exception": false,
     "start_time": "2021-11-23T13:30:17.918544",
     "status": "completed"
    },
    "tags": []
   },
   "source": [
    "# Exploratory Data Analysis"
   ]
  },
  {
   "cell_type": "code",
   "execution_count": 1,
   "id": "330e99ae",
   "metadata": {
    "execution": {
     "iopub.execute_input": "2021-11-23T13:30:18.033262Z",
     "iopub.status.busy": "2021-11-23T13:30:18.032212Z",
     "iopub.status.idle": "2021-11-23T13:30:18.047662Z",
     "shell.execute_reply": "2021-11-23T13:30:18.048246Z",
     "shell.execute_reply.started": "2021-11-23T12:55:48.249924Z"
    },
    "id": "bKcZxg-zGeHS",
    "outputId": "8f3e1fa8-c9f7-48fb-dcba-d3bf4abcd601",
    "papermill": {
     "duration": 0.061702,
     "end_time": "2021-11-23T13:30:18.048544",
     "exception": false,
     "start_time": "2021-11-23T13:30:17.986842",
     "status": "completed"
    },
    "tags": []
   },
   "outputs": [
    {
     "name": "stdout",
     "output_type": "stream",
     "text": [
      "/kaggle/input/fake-and-real-news-dataset/True.csv\n",
      "/kaggle/input/fake-and-real-news-dataset/Fake.csv\n"
     ]
    }
   ],
   "source": [
    "import os\n",
    "for dirname, _, filenames in os.walk('/kaggle/input'):\n",
    "    for filename in filenames:\n",
    "        print(os.path.join(dirname, filename))"
   ]
  },
  {
   "cell_type": "code",
   "execution_count": 2,
   "id": "14924b8d",
   "metadata": {
    "execution": {
     "iopub.execute_input": "2021-11-23T13:30:18.126803Z",
     "iopub.status.busy": "2021-11-23T13:30:18.124894Z",
     "iopub.status.idle": "2021-11-23T13:30:18.130213Z",
     "shell.execute_reply": "2021-11-23T13:30:18.129440Z",
     "shell.execute_reply.started": "2021-11-23T12:55:48.290993Z"
    },
    "id": "3T8_C3DNQ60_",
    "papermill": {
     "duration": 0.043543,
     "end_time": "2021-11-23T13:30:18.130381",
     "exception": false,
     "start_time": "2021-11-23T13:30:18.086838",
     "status": "completed"
    },
    "tags": []
   },
   "outputs": [],
   "source": [
    "import pandas as pd\n",
    "import numpy as np"
   ]
  },
  {
   "cell_type": "markdown",
   "id": "5b813a2b",
   "metadata": {
    "id": "iIn0nTNJrjr4",
    "papermill": {
     "duration": 0.035089,
     "end_time": "2021-11-23T13:30:18.200240",
     "exception": false,
     "start_time": "2021-11-23T13:30:18.165151",
     "status": "completed"
    },
    "tags": []
   },
   "source": [
    "**Loading The Dataset**"
   ]
  },
  {
   "cell_type": "code",
   "execution_count": 3,
   "id": "35997f1c",
   "metadata": {
    "execution": {
     "iopub.execute_input": "2021-11-23T13:30:18.276720Z",
     "iopub.status.busy": "2021-11-23T13:30:18.276012Z",
     "iopub.status.idle": "2021-11-23T13:30:21.219421Z",
     "shell.execute_reply": "2021-11-23T13:30:21.219975Z",
     "shell.execute_reply.started": "2021-11-23T12:56:43.608378Z"
    },
    "id": "Tkti84VFRgRE",
    "papermill": {
     "duration": 2.98445,
     "end_time": "2021-11-23T13:30:21.220188",
     "exception": false,
     "start_time": "2021-11-23T13:30:18.235738",
     "status": "completed"
    },
    "tags": []
   },
   "outputs": [],
   "source": [
    "f = pd.read_csv('../input/fake-and-real-news-dataset/Fake.csv', delimiter = ',')\n",
    "t = pd.read_csv('../input/fake-and-real-news-dataset/True.csv', delimiter = ',')"
   ]
  },
  {
   "cell_type": "markdown",
   "id": "cebe8bbb",
   "metadata": {
    "id": "3NfaHxWErrYG",
    "papermill": {
     "duration": 0.033954,
     "end_time": "2021-11-23T13:30:21.288620",
     "exception": false,
     "start_time": "2021-11-23T13:30:21.254666",
     "status": "completed"
    },
    "tags": []
   },
   "source": [
    "**Observing the top 5 rows of fake and true data**"
   ]
  },
  {
   "cell_type": "code",
   "execution_count": 4,
   "id": "d187f856",
   "metadata": {
    "execution": {
     "iopub.execute_input": "2021-11-23T13:30:21.361217Z",
     "iopub.status.busy": "2021-11-23T13:30:21.360543Z",
     "iopub.status.idle": "2021-11-23T13:30:21.381166Z",
     "shell.execute_reply": "2021-11-23T13:30:21.381685Z",
     "shell.execute_reply.started": "2021-11-23T12:56:50.041801Z"
    },
    "id": "51oll5ylSMTF",
    "outputId": "c8e86cc7-5e91-4a73-830e-918a73a7ae88",
    "papermill": {
     "duration": 0.058688,
     "end_time": "2021-11-23T13:30:21.381857",
     "exception": false,
     "start_time": "2021-11-23T13:30:21.323169",
     "status": "completed"
    },
    "tags": []
   },
   "outputs": [
    {
     "data": {
      "text/html": [
       "<div>\n",
       "<style scoped>\n",
       "    .dataframe tbody tr th:only-of-type {\n",
       "        vertical-align: middle;\n",
       "    }\n",
       "\n",
       "    .dataframe tbody tr th {\n",
       "        vertical-align: top;\n",
       "    }\n",
       "\n",
       "    .dataframe thead th {\n",
       "        text-align: right;\n",
       "    }\n",
       "</style>\n",
       "<table border=\"1\" class=\"dataframe\">\n",
       "  <thead>\n",
       "    <tr style=\"text-align: right;\">\n",
       "      <th></th>\n",
       "      <th>title</th>\n",
       "      <th>text</th>\n",
       "      <th>subject</th>\n",
       "      <th>date</th>\n",
       "    </tr>\n",
       "  </thead>\n",
       "  <tbody>\n",
       "    <tr>\n",
       "      <th>0</th>\n",
       "      <td>Donald Trump Sends Out Embarrassing New Year’...</td>\n",
       "      <td>Donald Trump just couldn t wish all Americans ...</td>\n",
       "      <td>News</td>\n",
       "      <td>December 31, 2017</td>\n",
       "    </tr>\n",
       "    <tr>\n",
       "      <th>1</th>\n",
       "      <td>Drunk Bragging Trump Staffer Started Russian ...</td>\n",
       "      <td>House Intelligence Committee Chairman Devin Nu...</td>\n",
       "      <td>News</td>\n",
       "      <td>December 31, 2017</td>\n",
       "    </tr>\n",
       "    <tr>\n",
       "      <th>2</th>\n",
       "      <td>Sheriff David Clarke Becomes An Internet Joke...</td>\n",
       "      <td>On Friday, it was revealed that former Milwauk...</td>\n",
       "      <td>News</td>\n",
       "      <td>December 30, 2017</td>\n",
       "    </tr>\n",
       "    <tr>\n",
       "      <th>3</th>\n",
       "      <td>Trump Is So Obsessed He Even Has Obama’s Name...</td>\n",
       "      <td>On Christmas day, Donald Trump announced that ...</td>\n",
       "      <td>News</td>\n",
       "      <td>December 29, 2017</td>\n",
       "    </tr>\n",
       "    <tr>\n",
       "      <th>4</th>\n",
       "      <td>Pope Francis Just Called Out Donald Trump Dur...</td>\n",
       "      <td>Pope Francis used his annual Christmas Day mes...</td>\n",
       "      <td>News</td>\n",
       "      <td>December 25, 2017</td>\n",
       "    </tr>\n",
       "  </tbody>\n",
       "</table>\n",
       "</div>"
      ],
      "text/plain": [
       "                                               title  \\\n",
       "0   Donald Trump Sends Out Embarrassing New Year’...   \n",
       "1   Drunk Bragging Trump Staffer Started Russian ...   \n",
       "2   Sheriff David Clarke Becomes An Internet Joke...   \n",
       "3   Trump Is So Obsessed He Even Has Obama’s Name...   \n",
       "4   Pope Francis Just Called Out Donald Trump Dur...   \n",
       "\n",
       "                                                text subject  \\\n",
       "0  Donald Trump just couldn t wish all Americans ...    News   \n",
       "1  House Intelligence Committee Chairman Devin Nu...    News   \n",
       "2  On Friday, it was revealed that former Milwauk...    News   \n",
       "3  On Christmas day, Donald Trump announced that ...    News   \n",
       "4  Pope Francis used his annual Christmas Day mes...    News   \n",
       "\n",
       "                date  \n",
       "0  December 31, 2017  \n",
       "1  December 31, 2017  \n",
       "2  December 30, 2017  \n",
       "3  December 29, 2017  \n",
       "4  December 25, 2017  "
      ]
     },
     "execution_count": 4,
     "metadata": {},
     "output_type": "execute_result"
    }
   ],
   "source": [
    "f.head()"
   ]
  },
  {
   "cell_type": "code",
   "execution_count": 5,
   "id": "07209e31",
   "metadata": {
    "execution": {
     "iopub.execute_input": "2021-11-23T13:30:21.455057Z",
     "iopub.status.busy": "2021-11-23T13:30:21.454362Z",
     "iopub.status.idle": "2021-11-23T13:30:21.465937Z",
     "shell.execute_reply": "2021-11-23T13:30:21.465384Z",
     "shell.execute_reply.started": "2021-11-23T12:56:50.452976Z"
    },
    "id": "HZZWrFQ2SOFz",
    "outputId": "8ba64586-2ced-4334-8b70-701723b77a9a",
    "papermill": {
     "duration": 0.049217,
     "end_time": "2021-11-23T13:30:21.466092",
     "exception": false,
     "start_time": "2021-11-23T13:30:21.416875",
     "status": "completed"
    },
    "tags": []
   },
   "outputs": [
    {
     "data": {
      "text/html": [
       "<div>\n",
       "<style scoped>\n",
       "    .dataframe tbody tr th:only-of-type {\n",
       "        vertical-align: middle;\n",
       "    }\n",
       "\n",
       "    .dataframe tbody tr th {\n",
       "        vertical-align: top;\n",
       "    }\n",
       "\n",
       "    .dataframe thead th {\n",
       "        text-align: right;\n",
       "    }\n",
       "</style>\n",
       "<table border=\"1\" class=\"dataframe\">\n",
       "  <thead>\n",
       "    <tr style=\"text-align: right;\">\n",
       "      <th></th>\n",
       "      <th>title</th>\n",
       "      <th>text</th>\n",
       "      <th>subject</th>\n",
       "      <th>date</th>\n",
       "    </tr>\n",
       "  </thead>\n",
       "  <tbody>\n",
       "    <tr>\n",
       "      <th>0</th>\n",
       "      <td>As U.S. budget fight looms, Republicans flip t...</td>\n",
       "      <td>WASHINGTON (Reuters) - The head of a conservat...</td>\n",
       "      <td>politicsNews</td>\n",
       "      <td>December 31, 2017</td>\n",
       "    </tr>\n",
       "    <tr>\n",
       "      <th>1</th>\n",
       "      <td>U.S. military to accept transgender recruits o...</td>\n",
       "      <td>WASHINGTON (Reuters) - Transgender people will...</td>\n",
       "      <td>politicsNews</td>\n",
       "      <td>December 29, 2017</td>\n",
       "    </tr>\n",
       "    <tr>\n",
       "      <th>2</th>\n",
       "      <td>Senior U.S. Republican senator: 'Let Mr. Muell...</td>\n",
       "      <td>WASHINGTON (Reuters) - The special counsel inv...</td>\n",
       "      <td>politicsNews</td>\n",
       "      <td>December 31, 2017</td>\n",
       "    </tr>\n",
       "    <tr>\n",
       "      <th>3</th>\n",
       "      <td>FBI Russia probe helped by Australian diplomat...</td>\n",
       "      <td>WASHINGTON (Reuters) - Trump campaign adviser ...</td>\n",
       "      <td>politicsNews</td>\n",
       "      <td>December 30, 2017</td>\n",
       "    </tr>\n",
       "    <tr>\n",
       "      <th>4</th>\n",
       "      <td>Trump wants Postal Service to charge 'much mor...</td>\n",
       "      <td>SEATTLE/WASHINGTON (Reuters) - President Donal...</td>\n",
       "      <td>politicsNews</td>\n",
       "      <td>December 29, 2017</td>\n",
       "    </tr>\n",
       "  </tbody>\n",
       "</table>\n",
       "</div>"
      ],
      "text/plain": [
       "                                               title  \\\n",
       "0  As U.S. budget fight looms, Republicans flip t...   \n",
       "1  U.S. military to accept transgender recruits o...   \n",
       "2  Senior U.S. Republican senator: 'Let Mr. Muell...   \n",
       "3  FBI Russia probe helped by Australian diplomat...   \n",
       "4  Trump wants Postal Service to charge 'much mor...   \n",
       "\n",
       "                                                text       subject  \\\n",
       "0  WASHINGTON (Reuters) - The head of a conservat...  politicsNews   \n",
       "1  WASHINGTON (Reuters) - Transgender people will...  politicsNews   \n",
       "2  WASHINGTON (Reuters) - The special counsel inv...  politicsNews   \n",
       "3  WASHINGTON (Reuters) - Trump campaign adviser ...  politicsNews   \n",
       "4  SEATTLE/WASHINGTON (Reuters) - President Donal...  politicsNews   \n",
       "\n",
       "                 date  \n",
       "0  December 31, 2017   \n",
       "1  December 29, 2017   \n",
       "2  December 31, 2017   \n",
       "3  December 30, 2017   \n",
       "4  December 29, 2017   "
      ]
     },
     "execution_count": 5,
     "metadata": {},
     "output_type": "execute_result"
    }
   ],
   "source": [
    "t.head()"
   ]
  },
  {
   "cell_type": "markdown",
   "id": "1c4c638e",
   "metadata": {
    "id": "roS1x0u6r2Df",
    "papermill": {
     "duration": 0.035011,
     "end_time": "2021-11-23T13:30:21.536382",
     "exception": false,
     "start_time": "2021-11-23T13:30:21.501371",
     "status": "completed"
    },
    "tags": []
   },
   "source": [
    "Now combining these two dataset to one dataset to simplify processing.\n",
    "\n",
    "Also to combine we need to add an extra column as 'temp' to differtiate news as 1=true_news 0=fake_news"
   ]
  },
  {
   "cell_type": "code",
   "execution_count": 6,
   "id": "27eb4799",
   "metadata": {
    "execution": {
     "iopub.execute_input": "2021-11-23T13:30:21.679097Z",
     "iopub.status.busy": "2021-11-23T13:30:21.677905Z",
     "iopub.status.idle": "2021-11-23T13:30:21.686442Z",
     "shell.execute_reply": "2021-11-23T13:30:21.687030Z",
     "shell.execute_reply.started": "2021-11-23T12:56:51.206528Z"
    },
    "id": "fDj4cVR6RwVg",
    "papermill": {
     "duration": 0.055326,
     "end_time": "2021-11-23T13:30:21.687225",
     "exception": false,
     "start_time": "2021-11-23T13:30:21.631899",
     "status": "completed"
    },
    "tags": []
   },
   "outputs": [],
   "source": [
    "f['temp']= 0\n",
    "t['temp']= 1\n",
    "\n",
    "datas = pd.DataFrame()\n",
    "datas = t.append(f)"
   ]
  },
  {
   "cell_type": "markdown",
   "id": "fb34f126",
   "metadata": {
    "id": "nFIygCDpxkc_",
    "papermill": {
     "duration": 0.03603,
     "end_time": "2021-11-23T13:30:21.759431",
     "exception": false,
     "start_time": "2021-11-23T13:30:21.723401",
     "status": "completed"
    },
    "tags": []
   },
   "source": [
    "**Observing the top 5 rows of dataset**"
   ]
  },
  {
   "cell_type": "code",
   "execution_count": 7,
   "id": "f0f94a01",
   "metadata": {
    "execution": {
     "iopub.execute_input": "2021-11-23T13:30:21.843681Z",
     "iopub.status.busy": "2021-11-23T13:30:21.834505Z",
     "iopub.status.idle": "2021-11-23T13:30:21.847245Z",
     "shell.execute_reply": "2021-11-23T13:30:21.846571Z",
     "shell.execute_reply.started": "2021-11-23T12:56:51.964506Z"
    },
    "id": "mcU3j-ITxsL5",
    "outputId": "2e5b4742-d216-43f0-cb59-dc0fe0765f0e",
    "papermill": {
     "duration": 0.052339,
     "end_time": "2021-11-23T13:30:21.847401",
     "exception": false,
     "start_time": "2021-11-23T13:30:21.795062",
     "status": "completed"
    },
    "tags": []
   },
   "outputs": [
    {
     "data": {
      "text/html": [
       "<div>\n",
       "<style scoped>\n",
       "    .dataframe tbody tr th:only-of-type {\n",
       "        vertical-align: middle;\n",
       "    }\n",
       "\n",
       "    .dataframe tbody tr th {\n",
       "        vertical-align: top;\n",
       "    }\n",
       "\n",
       "    .dataframe thead th {\n",
       "        text-align: right;\n",
       "    }\n",
       "</style>\n",
       "<table border=\"1\" class=\"dataframe\">\n",
       "  <thead>\n",
       "    <tr style=\"text-align: right;\">\n",
       "      <th></th>\n",
       "      <th>title</th>\n",
       "      <th>text</th>\n",
       "      <th>subject</th>\n",
       "      <th>date</th>\n",
       "      <th>temp</th>\n",
       "    </tr>\n",
       "  </thead>\n",
       "  <tbody>\n",
       "    <tr>\n",
       "      <th>0</th>\n",
       "      <td>As U.S. budget fight looms, Republicans flip t...</td>\n",
       "      <td>WASHINGTON (Reuters) - The head of a conservat...</td>\n",
       "      <td>politicsNews</td>\n",
       "      <td>December 31, 2017</td>\n",
       "      <td>1</td>\n",
       "    </tr>\n",
       "    <tr>\n",
       "      <th>1</th>\n",
       "      <td>U.S. military to accept transgender recruits o...</td>\n",
       "      <td>WASHINGTON (Reuters) - Transgender people will...</td>\n",
       "      <td>politicsNews</td>\n",
       "      <td>December 29, 2017</td>\n",
       "      <td>1</td>\n",
       "    </tr>\n",
       "    <tr>\n",
       "      <th>2</th>\n",
       "      <td>Senior U.S. Republican senator: 'Let Mr. Muell...</td>\n",
       "      <td>WASHINGTON (Reuters) - The special counsel inv...</td>\n",
       "      <td>politicsNews</td>\n",
       "      <td>December 31, 2017</td>\n",
       "      <td>1</td>\n",
       "    </tr>\n",
       "    <tr>\n",
       "      <th>3</th>\n",
       "      <td>FBI Russia probe helped by Australian diplomat...</td>\n",
       "      <td>WASHINGTON (Reuters) - Trump campaign adviser ...</td>\n",
       "      <td>politicsNews</td>\n",
       "      <td>December 30, 2017</td>\n",
       "      <td>1</td>\n",
       "    </tr>\n",
       "    <tr>\n",
       "      <th>4</th>\n",
       "      <td>Trump wants Postal Service to charge 'much mor...</td>\n",
       "      <td>SEATTLE/WASHINGTON (Reuters) - President Donal...</td>\n",
       "      <td>politicsNews</td>\n",
       "      <td>December 29, 2017</td>\n",
       "      <td>1</td>\n",
       "    </tr>\n",
       "  </tbody>\n",
       "</table>\n",
       "</div>"
      ],
      "text/plain": [
       "                                               title  \\\n",
       "0  As U.S. budget fight looms, Republicans flip t...   \n",
       "1  U.S. military to accept transgender recruits o...   \n",
       "2  Senior U.S. Republican senator: 'Let Mr. Muell...   \n",
       "3  FBI Russia probe helped by Australian diplomat...   \n",
       "4  Trump wants Postal Service to charge 'much mor...   \n",
       "\n",
       "                                                text       subject  \\\n",
       "0  WASHINGTON (Reuters) - The head of a conservat...  politicsNews   \n",
       "1  WASHINGTON (Reuters) - Transgender people will...  politicsNews   \n",
       "2  WASHINGTON (Reuters) - The special counsel inv...  politicsNews   \n",
       "3  WASHINGTON (Reuters) - Trump campaign adviser ...  politicsNews   \n",
       "4  SEATTLE/WASHINGTON (Reuters) - President Donal...  politicsNews   \n",
       "\n",
       "                 date  temp  \n",
       "0  December 31, 2017      1  \n",
       "1  December 29, 2017      1  \n",
       "2  December 31, 2017      1  \n",
       "3  December 30, 2017      1  \n",
       "4  December 29, 2017      1  "
      ]
     },
     "execution_count": 7,
     "metadata": {},
     "output_type": "execute_result"
    }
   ],
   "source": [
    "datas.head()"
   ]
  },
  {
   "cell_type": "markdown",
   "id": "2703a09a",
   "metadata": {
    "id": "iQy7wL8SwgBu",
    "papermill": {
     "duration": 0.036636,
     "end_time": "2021-11-23T13:30:21.920271",
     "exception": false,
     "start_time": "2021-11-23T13:30:21.883635",
     "status": "completed"
    },
    "tags": []
   },
   "source": [
    "**Checking the dimensions**"
   ]
  },
  {
   "cell_type": "code",
   "execution_count": 8,
   "id": "9adb8046",
   "metadata": {
    "execution": {
     "iopub.execute_input": "2021-11-23T13:30:21.998534Z",
     "iopub.status.busy": "2021-11-23T13:30:21.997833Z",
     "iopub.status.idle": "2021-11-23T13:30:22.000646Z",
     "shell.execute_reply": "2021-11-23T13:30:22.001161Z",
     "shell.execute_reply.started": "2021-11-23T12:56:52.740131Z"
    },
    "id": "GTcT2G9ywldw",
    "outputId": "cf17fadc-1a43-416d-d59f-b1231215f87a",
    "papermill": {
     "duration": 0.045125,
     "end_time": "2021-11-23T13:30:22.001336",
     "exception": false,
     "start_time": "2021-11-23T13:30:21.956211",
     "status": "completed"
    },
    "tags": []
   },
   "outputs": [
    {
     "name": "stdout",
     "output_type": "stream",
     "text": [
      "(44898, 5)\n"
     ]
    }
   ],
   "source": [
    "print(datas.shape)"
   ]
  },
  {
   "cell_type": "markdown",
   "id": "771c4cb1",
   "metadata": {
    "id": "IGdvzlK5sC5g",
    "papermill": {
     "duration": 0.036478,
     "end_time": "2021-11-23T13:30:22.075617",
     "exception": false,
     "start_time": "2021-11-23T13:30:22.039139",
     "status": "completed"
    },
    "tags": []
   },
   "source": [
    "**Column 'Date' and 'Subject' are important to Descriptive analysis but here for prediction they are less important so dropping these columns.**"
   ]
  },
  {
   "cell_type": "code",
   "execution_count": 9,
   "id": "39266bca",
   "metadata": {
    "execution": {
     "iopub.execute_input": "2021-11-23T13:30:22.152300Z",
     "iopub.status.busy": "2021-11-23T13:30:22.151649Z",
     "iopub.status.idle": "2021-11-23T13:30:22.162089Z",
     "shell.execute_reply": "2021-11-23T13:30:22.162573Z",
     "shell.execute_reply.started": "2021-11-23T12:56:53.537568Z"
    },
    "id": "eldrd8KyR4kw",
    "papermill": {
     "duration": 0.050417,
     "end_time": "2021-11-23T13:30:22.162755",
     "exception": false,
     "start_time": "2021-11-23T13:30:22.112338",
     "status": "completed"
    },
    "tags": []
   },
   "outputs": [],
   "source": [
    "column = ['date','subject']\n",
    "datas = datas.drop(columns=column)"
   ]
  },
  {
   "cell_type": "markdown",
   "id": "eaf89964",
   "metadata": {
    "id": "JDx7GKAfwp2n",
    "papermill": {
     "duration": 0.036003,
     "end_time": "2021-11-23T13:30:22.235453",
     "exception": false,
     "start_time": "2021-11-23T13:30:22.199450",
     "status": "completed"
    },
    "tags": []
   },
   "source": [
    "**Cheking the dimensions after dropping**"
   ]
  },
  {
   "cell_type": "code",
   "execution_count": 10,
   "id": "23b32798",
   "metadata": {
    "execution": {
     "iopub.execute_input": "2021-11-23T13:30:22.312220Z",
     "iopub.status.busy": "2021-11-23T13:30:22.311140Z",
     "iopub.status.idle": "2021-11-23T13:30:22.317129Z",
     "shell.execute_reply": "2021-11-23T13:30:22.317607Z",
     "shell.execute_reply.started": "2021-11-23T12:56:54.382467Z"
    },
    "id": "u4e-c_ZIwr73",
    "outputId": "c238f182-fb41-49d3-e26f-c72c4110ffdb",
    "papermill": {
     "duration": 0.045983,
     "end_time": "2021-11-23T13:30:22.317786",
     "exception": false,
     "start_time": "2021-11-23T13:30:22.271803",
     "status": "completed"
    },
    "tags": []
   },
   "outputs": [
    {
     "name": "stdout",
     "output_type": "stream",
     "text": [
      "(44898, 3)\n"
     ]
    }
   ],
   "source": [
    "print(datas.shape)"
   ]
  },
  {
   "cell_type": "markdown",
   "id": "b442286d",
   "metadata": {
    "id": "bzvDyXoywx2_",
    "papermill": {
     "duration": 0.036658,
     "end_time": "2021-11-23T13:30:22.391430",
     "exception": false,
     "start_time": "2021-11-23T13:30:22.354772",
     "status": "completed"
    },
    "tags": []
   },
   "source": [
    "**Exploring the data**"
   ]
  },
  {
   "cell_type": "code",
   "execution_count": 11,
   "id": "112a0f0a",
   "metadata": {
    "execution": {
     "iopub.execute_input": "2021-11-23T13:30:22.472793Z",
     "iopub.status.busy": "2021-11-23T13:30:22.471792Z",
     "iopub.status.idle": "2021-11-23T13:30:22.499083Z",
     "shell.execute_reply": "2021-11-23T13:30:22.498540Z",
     "shell.execute_reply.started": "2021-11-23T12:56:55.205752Z"
    },
    "id": "P65xxII6ww05",
    "outputId": "067aec9f-b573-4deb-90c2-4234d2d2479d",
    "papermill": {
     "duration": 0.070741,
     "end_time": "2021-11-23T13:30:22.499232",
     "exception": false,
     "start_time": "2021-11-23T13:30:22.428491",
     "status": "completed"
    },
    "tags": []
   },
   "outputs": [
    {
     "name": "stdout",
     "output_type": "stream",
     "text": [
      "<class 'pandas.core.frame.DataFrame'>\n",
      "Int64Index: 44898 entries, 0 to 23480\n",
      "Data columns (total 3 columns):\n",
      " #   Column  Non-Null Count  Dtype \n",
      "---  ------  --------------  ----- \n",
      " 0   title   44898 non-null  object\n",
      " 1   text    44898 non-null  object\n",
      " 2   temp    44898 non-null  int64 \n",
      "dtypes: int64(1), object(2)\n",
      "memory usage: 1.4+ MB\n"
     ]
    }
   ],
   "source": [
    "datas.info()"
   ]
  },
  {
   "cell_type": "markdown",
   "id": "05f53cf4",
   "metadata": {
    "id": "MII5G82zsLCO",
    "papermill": {
     "duration": 0.037176,
     "end_time": "2021-11-23T13:30:22.573591",
     "exception": false,
     "start_time": "2021-11-23T13:30:22.536415",
     "status": "completed"
    },
    "tags": []
   },
   "source": [
    "**Created array of 'title' column as input_array for preprocessing**"
   ]
  },
  {
   "cell_type": "code",
   "execution_count": 12,
   "id": "aa1b8b59",
   "metadata": {
    "execution": {
     "iopub.execute_input": "2021-11-23T13:30:22.651538Z",
     "iopub.status.busy": "2021-11-23T13:30:22.650509Z",
     "iopub.status.idle": "2021-11-23T13:30:22.655174Z",
     "shell.execute_reply": "2021-11-23T13:30:22.655634Z",
     "shell.execute_reply.started": "2021-11-23T12:56:56.091716Z"
    },
    "id": "7jWE09tYsJe4",
    "papermill": {
     "duration": 0.045044,
     "end_time": "2021-11-23T13:30:22.655809",
     "exception": false,
     "start_time": "2021-11-23T13:30:22.610765",
     "status": "completed"
    },
    "tags": []
   },
   "outputs": [],
   "source": [
    "input_arr=np.array(datas['title'])"
   ]
  },
  {
   "cell_type": "markdown",
   "id": "cd5ae7a7",
   "metadata": {
    "id": "4-oQumWTsRuP",
    "papermill": {
     "duration": 0.036476,
     "end_time": "2021-11-23T13:30:22.729146",
     "exception": false,
     "start_time": "2021-11-23T13:30:22.692670",
     "status": "completed"
    },
    "tags": []
   },
   "source": [
    "# Natural Language Processing"
   ]
  },
  {
   "cell_type": "markdown",
   "id": "a2f8188d",
   "metadata": {
    "id": "kIZ_Lv4H1S9n",
    "papermill": {
     "duration": 0.036471,
     "end_time": "2021-11-23T13:30:22.802402",
     "exception": false,
     "start_time": "2021-11-23T13:30:22.765931",
     "status": "completed"
    },
    "tags": []
   },
   "source": [
    "*Downloading Stopwords*"
   ]
  },
  {
   "cell_type": "code",
   "execution_count": 13,
   "id": "0ef706d4",
   "metadata": {
    "execution": {
     "iopub.execute_input": "2021-11-23T13:30:22.881288Z",
     "iopub.status.busy": "2021-11-23T13:30:22.880162Z",
     "iopub.status.idle": "2021-11-23T13:30:24.624741Z",
     "shell.execute_reply": "2021-11-23T13:30:24.625283Z",
     "shell.execute_reply.started": "2021-11-23T12:56:57.405918Z"
    },
    "id": "HdoXk8PmSB7i",
    "outputId": "f1c5a7ff-98bd-4edd-dbb5-f41af4ee2f33",
    "papermill": {
     "duration": 1.785131,
     "end_time": "2021-11-23T13:30:24.625457",
     "exception": false,
     "start_time": "2021-11-23T13:30:22.840326",
     "status": "completed"
    },
    "tags": []
   },
   "outputs": [
    {
     "name": "stdout",
     "output_type": "stream",
     "text": [
      "[nltk_data] Downloading package stopwords to /usr/share/nltk_data...\n",
      "[nltk_data]   Package stopwords is already up-to-date!\n"
     ]
    },
    {
     "data": {
      "text/plain": [
       "True"
      ]
     },
     "execution_count": 13,
     "metadata": {},
     "output_type": "execute_result"
    }
   ],
   "source": [
    "import re\n",
    "import nltk\n",
    "nltk.download('stopwords')"
   ]
  },
  {
   "cell_type": "markdown",
   "id": "732077af",
   "metadata": {
    "id": "H5zXvujG1OgF",
    "papermill": {
     "duration": 0.037376,
     "end_time": "2021-11-23T13:30:24.700564",
     "exception": false,
     "start_time": "2021-11-23T13:30:24.663188",
     "status": "completed"
    },
    "tags": []
   },
   "source": [
    "***Stopwords***: *A stop word is a commonly used word (such as “the”, “a”, “an”, “in”) that a search engine has been programmed to ignore, both when indexing entries for searching and when retrieving them as the result of a search query.*\n",
    "https://www.geeksforgeeks.org/removing-stop-words-nltk-python/\n",
    "\n",
    "***PortStemmer***: *A PortStemmer is an algorithm used for removing the commoner morphological and inflexional endings from words in English.  For example: words such as “Likes”, ”liked”, ”likely” and ”liking” will be reduced to “like” after stemming.*\n",
    "https://www.geeksforgeeks.org/python-stemming-words-with-nltk/"
   ]
  },
  {
   "cell_type": "markdown",
   "id": "5fceb148",
   "metadata": {
    "id": "w4BuoPqdFzQV",
    "papermill": {
     "duration": 0.037315,
     "end_time": "2021-11-23T13:30:24.776085",
     "exception": false,
     "start_time": "2021-11-23T13:30:24.738770",
     "status": "completed"
    },
    "tags": []
   },
   "source": [
    "**Using nltk and importing Stopwords(For dealing with stopwords) and PortStemmer(For stemming)**"
   ]
  },
  {
   "cell_type": "code",
   "execution_count": 14,
   "id": "1d6847df",
   "metadata": {
    "execution": {
     "iopub.execute_input": "2021-11-23T13:30:24.861346Z",
     "iopub.status.busy": "2021-11-23T13:30:24.860529Z",
     "iopub.status.idle": "2021-11-23T13:31:52.078217Z",
     "shell.execute_reply": "2021-11-23T13:31:52.078748Z",
     "shell.execute_reply.started": "2021-11-23T12:56:59.072870Z"
    },
    "id": "qbQE4S45Sktw",
    "papermill": {
     "duration": 87.265246,
     "end_time": "2021-11-23T13:31:52.078969",
     "exception": false,
     "start_time": "2021-11-23T13:30:24.813723",
     "status": "completed"
    },
    "tags": []
   },
   "outputs": [],
   "source": [
    "from nltk.corpus import stopwords\n",
    "from nltk.stem.porter import PorterStemmer\n",
    "\n",
    "corpus = []\n",
    "\n",
    "for i in range(0, 40000):\n",
    "    newArr = re.sub('[^a-zA-Z]', ' ', input_arr[i])\n",
    "    #The sub() function replaces the matches with the text of your choice,\n",
    "    #in this case \"[a-zA-Z]\" is getting replaced with blank space\n",
    "    #input_arr[i] is the array of 'title' column.\n",
    "\n",
    "    #[a-zA-Z]: Returns a match for any character alphabetically between a and z, lower case OR upper case\n",
    "\n",
    "    newArr = newArr.lower()\n",
    "    #Converting into lowercase\n",
    "\n",
    "    newArr = newArr.split()\n",
    "    #The split() method splits a string into a list.\n",
    "\n",
    "    ps = PorterStemmer()\n",
    "    newArr = [ps.stem(word) for word in newArr if not word in set(stopwords.words('english'))]\n",
    "    #ps.stem(word) is stemming the words\n",
    "    #the word will be considered if the word is not a stopword\n",
    "    #set(stopwords.words('english')= checks any kind of stopwords in English language\n",
    "\n",
    "    newArr = ' '.join(newArr)\n",
    "    #joins the string with blank spaces\n",
    "\n",
    "    corpus.append(newArr)\n",
    "    #adding strings into the corpus list"
   ]
  },
  {
   "cell_type": "code",
   "execution_count": 15,
   "id": "f6020da4",
   "metadata": {
    "execution": {
     "iopub.execute_input": "2021-11-23T13:31:52.158479Z",
     "iopub.status.busy": "2021-11-23T13:31:52.157692Z",
     "iopub.status.idle": "2021-11-23T13:31:52.170097Z",
     "shell.execute_reply": "2021-11-23T13:31:52.170559Z",
     "shell.execute_reply.started": "2021-11-23T12:58:25.458743Z"
    },
    "id": "1RTB_Wxsxro-",
    "outputId": "191642a8-b98b-4d99-fefb-377d0d2c3a19",
    "papermill": {
     "duration": 0.053314,
     "end_time": "2021-11-23T13:31:52.170733",
     "exception": false,
     "start_time": "2021-11-23T13:31:52.117419",
     "status": "completed"
    },
    "tags": []
   },
   "outputs": [
    {
     "data": {
      "text/html": [
       "<div>\n",
       "<style scoped>\n",
       "    .dataframe tbody tr th:only-of-type {\n",
       "        vertical-align: middle;\n",
       "    }\n",
       "\n",
       "    .dataframe tbody tr th {\n",
       "        vertical-align: top;\n",
       "    }\n",
       "\n",
       "    .dataframe thead th {\n",
       "        text-align: right;\n",
       "    }\n",
       "</style>\n",
       "<table border=\"1\" class=\"dataframe\">\n",
       "  <thead>\n",
       "    <tr style=\"text-align: right;\">\n",
       "      <th></th>\n",
       "      <th>title</th>\n",
       "      <th>text</th>\n",
       "      <th>temp</th>\n",
       "    </tr>\n",
       "  </thead>\n",
       "  <tbody>\n",
       "    <tr>\n",
       "      <th>0</th>\n",
       "      <td>As U.S. budget fight looms, Republicans flip t...</td>\n",
       "      <td>WASHINGTON (Reuters) - The head of a conservat...</td>\n",
       "      <td>1</td>\n",
       "    </tr>\n",
       "    <tr>\n",
       "      <th>1</th>\n",
       "      <td>U.S. military to accept transgender recruits o...</td>\n",
       "      <td>WASHINGTON (Reuters) - Transgender people will...</td>\n",
       "      <td>1</td>\n",
       "    </tr>\n",
       "    <tr>\n",
       "      <th>2</th>\n",
       "      <td>Senior U.S. Republican senator: 'Let Mr. Muell...</td>\n",
       "      <td>WASHINGTON (Reuters) - The special counsel inv...</td>\n",
       "      <td>1</td>\n",
       "    </tr>\n",
       "    <tr>\n",
       "      <th>3</th>\n",
       "      <td>FBI Russia probe helped by Australian diplomat...</td>\n",
       "      <td>WASHINGTON (Reuters) - Trump campaign adviser ...</td>\n",
       "      <td>1</td>\n",
       "    </tr>\n",
       "    <tr>\n",
       "      <th>4</th>\n",
       "      <td>Trump wants Postal Service to charge 'much mor...</td>\n",
       "      <td>SEATTLE/WASHINGTON (Reuters) - President Donal...</td>\n",
       "      <td>1</td>\n",
       "    </tr>\n",
       "    <tr>\n",
       "      <th>...</th>\n",
       "      <td>...</td>\n",
       "      <td>...</td>\n",
       "      <td>...</td>\n",
       "    </tr>\n",
       "    <tr>\n",
       "      <th>23476</th>\n",
       "      <td>McPain: John McCain Furious That Iran Treated ...</td>\n",
       "      <td>21st Century Wire says As 21WIRE reported earl...</td>\n",
       "      <td>0</td>\n",
       "    </tr>\n",
       "    <tr>\n",
       "      <th>23477</th>\n",
       "      <td>JUSTICE? Yahoo Settles E-mail Privacy Class-ac...</td>\n",
       "      <td>21st Century Wire says It s a familiar theme. ...</td>\n",
       "      <td>0</td>\n",
       "    </tr>\n",
       "    <tr>\n",
       "      <th>23478</th>\n",
       "      <td>Sunnistan: US and Allied ‘Safe Zone’ Plan to T...</td>\n",
       "      <td>Patrick Henningsen  21st Century WireRemember ...</td>\n",
       "      <td>0</td>\n",
       "    </tr>\n",
       "    <tr>\n",
       "      <th>23479</th>\n",
       "      <td>How to Blow $700 Million: Al Jazeera America F...</td>\n",
       "      <td>21st Century Wire says Al Jazeera America will...</td>\n",
       "      <td>0</td>\n",
       "    </tr>\n",
       "    <tr>\n",
       "      <th>23480</th>\n",
       "      <td>10 U.S. Navy Sailors Held by Iranian Military ...</td>\n",
       "      <td>21st Century Wire says As 21WIRE predicted in ...</td>\n",
       "      <td>0</td>\n",
       "    </tr>\n",
       "  </tbody>\n",
       "</table>\n",
       "<p>44898 rows × 3 columns</p>\n",
       "</div>"
      ],
      "text/plain": [
       "                                                   title  \\\n",
       "0      As U.S. budget fight looms, Republicans flip t...   \n",
       "1      U.S. military to accept transgender recruits o...   \n",
       "2      Senior U.S. Republican senator: 'Let Mr. Muell...   \n",
       "3      FBI Russia probe helped by Australian diplomat...   \n",
       "4      Trump wants Postal Service to charge 'much mor...   \n",
       "...                                                  ...   \n",
       "23476  McPain: John McCain Furious That Iran Treated ...   \n",
       "23477  JUSTICE? Yahoo Settles E-mail Privacy Class-ac...   \n",
       "23478  Sunnistan: US and Allied ‘Safe Zone’ Plan to T...   \n",
       "23479  How to Blow $700 Million: Al Jazeera America F...   \n",
       "23480  10 U.S. Navy Sailors Held by Iranian Military ...   \n",
       "\n",
       "                                                    text  temp  \n",
       "0      WASHINGTON (Reuters) - The head of a conservat...     1  \n",
       "1      WASHINGTON (Reuters) - Transgender people will...     1  \n",
       "2      WASHINGTON (Reuters) - The special counsel inv...     1  \n",
       "3      WASHINGTON (Reuters) - Trump campaign adviser ...     1  \n",
       "4      SEATTLE/WASHINGTON (Reuters) - President Donal...     1  \n",
       "...                                                  ...   ...  \n",
       "23476  21st Century Wire says As 21WIRE reported earl...     0  \n",
       "23477  21st Century Wire says It s a familiar theme. ...     0  \n",
       "23478  Patrick Henningsen  21st Century WireRemember ...     0  \n",
       "23479  21st Century Wire says Al Jazeera America will...     0  \n",
       "23480  21st Century Wire says As 21WIRE predicted in ...     0  \n",
       "\n",
       "[44898 rows x 3 columns]"
      ]
     },
     "execution_count": 15,
     "metadata": {},
     "output_type": "execute_result"
    }
   ],
   "source": [
    "datas"
   ]
  },
  {
   "cell_type": "markdown",
   "id": "d3967c20",
   "metadata": {
    "id": "W7QvVnbr1rCW",
    "papermill": {
     "duration": 0.038419,
     "end_time": "2021-11-23T13:31:52.247284",
     "exception": false,
     "start_time": "2021-11-23T13:31:52.208865",
     "status": "completed"
    },
    "tags": []
   },
   "source": [
    "***CountVectorizer*** : *CountVectorizer is a tool provided by the scikit-learn library. It is used to transform a given text into a vector on the basis of the frequency (count) of each word that occurs in the entire text.* \n",
    "https://www.geeksforgeeks.org/using-countvectorizer-to-extracting-features-from-text/"
   ]
  },
  {
   "cell_type": "code",
   "execution_count": 16,
   "id": "a92aa67f",
   "metadata": {
    "execution": {
     "iopub.execute_input": "2021-11-23T13:31:52.327141Z",
     "iopub.status.busy": "2021-11-23T13:31:52.326431Z",
     "iopub.status.idle": "2021-11-23T13:31:53.554176Z",
     "shell.execute_reply": "2021-11-23T13:31:53.553469Z",
     "shell.execute_reply.started": "2021-11-23T12:58:25.474071Z"
    },
    "id": "zeW2JtkLSqgg",
    "papermill": {
     "duration": 1.268729,
     "end_time": "2021-11-23T13:31:53.554331",
     "exception": false,
     "start_time": "2021-11-23T13:31:52.285602",
     "status": "completed"
    },
    "tags": []
   },
   "outputs": [],
   "source": [
    "from sklearn.feature_extraction.text import CountVectorizer\n",
    "countv = CountVectorizer(max_features = 5000)\n",
    "#max_features: The CountVectorizer will select the\n",
    "#words/features/terms which occur the most frequently.\n",
    "#It takes absolute values so if you set the ‘max_features = 3’,\n",
    "#it will select the 3 most common words in the data.\n",
    "\n",
    "X = countv.fit_transform(corpus).toarray()\n",
    "y = datas.iloc[0:40000, 2].values"
   ]
  },
  {
   "cell_type": "markdown",
   "id": "9a14ccc0",
   "metadata": {
    "id": "R3ciK92LySSb",
    "papermill": {
     "duration": 0.03829,
     "end_time": "2021-11-23T13:31:53.631059",
     "exception": false,
     "start_time": "2021-11-23T13:31:53.592769",
     "status": "completed"
    },
    "tags": []
   },
   "source": [
    "X=independent_variable(title)\n",
    "</br> y=dependent_variable(sentiment 0 or 1)\n",
    "\n",
    "</br>\n",
    "Basically what I did here is created a bag of words (https://machinelearningmastery.com/gentle-introduction-bag-words-model/)i.e, X will have top 5000 most common words in array form"
   ]
  },
  {
   "cell_type": "markdown",
   "id": "b30749e8",
   "metadata": {
    "id": "pWCRpCJytbOX",
    "papermill": {
     "duration": 0.038248,
     "end_time": "2021-11-23T13:31:53.707638",
     "exception": false,
     "start_time": "2021-11-23T13:31:53.669390",
     "status": "completed"
    },
    "tags": []
   },
   "source": [
    "# Modelling"
   ]
  },
  {
   "cell_type": "markdown",
   "id": "30c054a3",
   "metadata": {
    "id": "L51J2xHhsfuH",
    "papermill": {
     "duration": 0.039467,
     "end_time": "2021-11-23T13:31:53.785823",
     "exception": false,
     "start_time": "2021-11-23T13:31:53.746356",
     "status": "completed"
    },
    "tags": []
   },
   "source": [
    "**Splitting the dataset into the Training set and Test set in 80-20 ratio**"
   ]
  },
  {
   "cell_type": "code",
   "execution_count": 17,
   "id": "177f7c32",
   "metadata": {
    "execution": {
     "iopub.execute_input": "2021-11-23T13:31:53.866173Z",
     "iopub.status.busy": "2021-11-23T13:31:53.865370Z",
     "iopub.status.idle": "2021-11-23T13:31:54.703756Z",
     "shell.execute_reply": "2021-11-23T13:31:54.703091Z",
     "shell.execute_reply.started": "2021-11-23T12:58:26.678309Z"
    },
    "id": "tlGuYEnaU_fu",
    "papermill": {
     "duration": 0.879737,
     "end_time": "2021-11-23T13:31:54.703900",
     "exception": false,
     "start_time": "2021-11-23T13:31:53.824163",
     "status": "completed"
    },
    "tags": []
   },
   "outputs": [],
   "source": [
    "from sklearn.model_selection import train_test_split\n",
    "X_train, X_test, y_train, y_test = train_test_split(X, y, test_size = 0.20, random_state = 0)"
   ]
  },
  {
   "cell_type": "markdown",
   "id": "eb0e7e1e",
   "metadata": {
    "id": "uLGkDV3Ntope",
    "papermill": {
     "duration": 0.038181,
     "end_time": "2021-11-23T13:31:54.781150",
     "exception": false,
     "start_time": "2021-11-23T13:31:54.742969",
     "status": "completed"
    },
    "tags": []
   },
   "source": [
    "**Fitting Logistic Regression to the Training set**"
   ]
  },
  {
   "cell_type": "code",
   "execution_count": 18,
   "id": "44d4481a",
   "metadata": {
    "execution": {
     "iopub.execute_input": "2021-11-23T13:31:54.863598Z",
     "iopub.status.busy": "2021-11-23T13:31:54.862846Z",
     "iopub.status.idle": "2021-11-23T13:32:08.617651Z",
     "shell.execute_reply": "2021-11-23T13:32:08.619115Z",
     "shell.execute_reply.started": "2021-11-23T12:58:27.505954Z"
    },
    "id": "yiwMSdFFtu4-",
    "outputId": "195af7a4-0304-4526-e47b-863cfa2195c2",
    "papermill": {
     "duration": 13.800015,
     "end_time": "2021-11-23T13:32:08.619411",
     "exception": false,
     "start_time": "2021-11-23T13:31:54.819396",
     "status": "completed"
    },
    "tags": []
   },
   "outputs": [
    {
     "data": {
      "text/plain": [
       "LogisticRegression(random_state=0)"
      ]
     },
     "execution_count": 18,
     "metadata": {},
     "output_type": "execute_result"
    }
   ],
   "source": [
    "from sklearn.linear_model import LogisticRegression\n",
    "classifier = LogisticRegression(random_state = 0)\n",
    "classifier.fit(X_train, y_train)"
   ]
  },
  {
   "cell_type": "markdown",
   "id": "81aa73b8",
   "metadata": {
    "id": "FACWoKH7tx1X",
    "papermill": {
     "duration": 0.052545,
     "end_time": "2021-11-23T13:32:08.744247",
     "exception": false,
     "start_time": "2021-11-23T13:32:08.691702",
     "status": "completed"
    },
    "tags": []
   },
   "source": [
    "**Predicting the Test set results**"
   ]
  },
  {
   "cell_type": "code",
   "execution_count": 19,
   "id": "5d1403b2",
   "metadata": {
    "execution": {
     "iopub.execute_input": "2021-11-23T13:32:08.830358Z",
     "iopub.status.busy": "2021-11-23T13:32:08.829528Z",
     "iopub.status.idle": "2021-11-23T13:32:08.984530Z",
     "shell.execute_reply": "2021-11-23T13:32:08.985515Z",
     "shell.execute_reply.started": "2021-11-23T12:58:40.772689Z"
    },
    "id": "vgzLHzcEtzmq",
    "papermill": {
     "duration": 0.202509,
     "end_time": "2021-11-23T13:32:08.985817",
     "exception": false,
     "start_time": "2021-11-23T13:32:08.783308",
     "status": "completed"
    },
    "tags": []
   },
   "outputs": [],
   "source": [
    "y_pred = classifier.predict(X_test)"
   ]
  },
  {
   "cell_type": "markdown",
   "id": "ea4b642f",
   "metadata": {
    "id": "f-1ZNDIkt5vY",
    "papermill": {
     "duration": 0.05738,
     "end_time": "2021-11-23T13:32:09.116051",
     "exception": false,
     "start_time": "2021-11-23T13:32:09.058671",
     "status": "completed"
    },
    "tags": []
   },
   "source": [
    "# Model Evaluation"
   ]
  },
  {
   "cell_type": "markdown",
   "id": "04f79c03",
   "metadata": {
    "id": "I6fOn_TeuPbO",
    "papermill": {
     "duration": 0.038763,
     "end_time": "2021-11-23T13:32:09.193479",
     "exception": false,
     "start_time": "2021-11-23T13:32:09.154716",
     "status": "completed"
    },
    "tags": []
   },
   "source": [
    "**Making the Confusion Matrix**"
   ]
  },
  {
   "cell_type": "code",
   "execution_count": 20,
   "id": "311aaa2e",
   "metadata": {
    "execution": {
     "iopub.execute_input": "2021-11-23T13:32:09.275633Z",
     "iopub.status.busy": "2021-11-23T13:32:09.273931Z",
     "iopub.status.idle": "2021-11-23T13:32:09.291752Z",
     "shell.execute_reply": "2021-11-23T13:32:09.292332Z",
     "shell.execute_reply.started": "2021-11-23T12:58:40.958360Z"
    },
    "id": "PVgM-6qrt1dB",
    "papermill": {
     "duration": 0.060339,
     "end_time": "2021-11-23T13:32:09.292523",
     "exception": false,
     "start_time": "2021-11-23T13:32:09.232184",
     "status": "completed"
    },
    "tags": []
   },
   "outputs": [],
   "source": [
    "from sklearn.metrics import confusion_matrix\n",
    "cm = confusion_matrix(y_test, y_pred)"
   ]
  },
  {
   "cell_type": "code",
   "execution_count": 21,
   "id": "0eaa0d21",
   "metadata": {
    "execution": {
     "iopub.execute_input": "2021-11-23T13:32:09.373608Z",
     "iopub.status.busy": "2021-11-23T13:32:09.372978Z",
     "iopub.status.idle": "2021-11-23T13:32:09.377859Z",
     "shell.execute_reply": "2021-11-23T13:32:09.378370Z",
     "shell.execute_reply.started": "2021-11-23T12:58:40.988991Z"
    },
    "id": "ntqdcCNRuZ94",
    "outputId": "373f3486-cc30-4f02-9d9e-03477d562090",
    "papermill": {
     "duration": 0.046847,
     "end_time": "2021-11-23T13:32:09.378559",
     "exception": false,
     "start_time": "2021-11-23T13:32:09.331712",
     "status": "completed"
    },
    "tags": []
   },
   "outputs": [
    {
     "name": "stdout",
     "output_type": "stream",
     "text": [
      "[[3488  264]\n",
      " [ 140 4108]]\n"
     ]
    }
   ],
   "source": [
    "print(cm)"
   ]
  },
  {
   "cell_type": "markdown",
   "id": "a48aca04",
   "metadata": {
    "id": "wWRIZAk3v5uN",
    "papermill": {
     "duration": 0.038677,
     "end_time": "2021-11-23T13:32:09.456345",
     "exception": false,
     "start_time": "2021-11-23T13:32:09.417668",
     "status": "completed"
    },
    "tags": []
   },
   "source": [
    "**Getting more details**"
   ]
  },
  {
   "cell_type": "code",
   "execution_count": 22,
   "id": "f6c14ab8",
   "metadata": {
    "execution": {
     "iopub.execute_input": "2021-11-23T13:32:09.537814Z",
     "iopub.status.busy": "2021-11-23T13:32:09.537145Z",
     "iopub.status.idle": "2021-11-23T13:32:09.558026Z",
     "shell.execute_reply": "2021-11-23T13:32:09.558539Z",
     "shell.execute_reply.started": "2021-11-23T12:58:41.008932Z"
    },
    "id": "nL__ptq2ucmM",
    "outputId": "3e5fad6f-9de7-4227-f8bb-2d15db7cadad",
    "papermill": {
     "duration": 0.063184,
     "end_time": "2021-11-23T13:32:09.558725",
     "exception": false,
     "start_time": "2021-11-23T13:32:09.495541",
     "status": "completed"
    },
    "tags": []
   },
   "outputs": [
    {
     "name": "stdout",
     "output_type": "stream",
     "text": [
      "              precision    recall  f1-score   support\n",
      "\n",
      "           0       0.96      0.93      0.95      3752\n",
      "           1       0.94      0.97      0.95      4248\n",
      "\n",
      "    accuracy                           0.95      8000\n",
      "   macro avg       0.95      0.95      0.95      8000\n",
      "weighted avg       0.95      0.95      0.95      8000\n",
      "\n"
     ]
    }
   ],
   "source": [
    "from sklearn.metrics import classification_report\n",
    "print(classification_report(y_test, y_pred))"
   ]
  },
  {
   "cell_type": "markdown",
   "id": "9cd725cc",
   "metadata": {
    "id": "Bs2rmUBiy6Sp",
    "papermill": {
     "duration": 0.040458,
     "end_time": "2021-11-23T13:32:09.639455",
     "exception": false,
     "start_time": "2021-11-23T13:32:09.598997",
     "status": "completed"
    },
    "tags": []
   },
   "source": [
    "TP – True Positives\n",
    "TN - True Negatives\n",
    "FP – False Positives\n",
    "FN – False Negatives\n",
    "\n",
    "Precision: Accuracy of positive predictions.\n",
    "Precision = TP/(TP + FP)\n",
    "\n",
    "Recall: Fraction of positives that were correctly identified.\n",
    "Recall = TP/(TP+FN)\n",
    "\n",
    "F1 score – Percent of positive predictions were correct.\n",
    "F1 Score = 2*(Recall * Precision) / (Recall + Precision)"
   ]
  },
  {
   "cell_type": "markdown",
   "id": "8b5b957b",
   "metadata": {
    "id": "1Q-iYjLiIzZ-",
    "papermill": {
     "duration": 0.039876,
     "end_time": "2021-11-23T13:32:09.719167",
     "exception": false,
     "start_time": "2021-11-23T13:32:09.679291",
     "status": "completed"
    },
    "tags": []
   },
   "source": [
    "**Getting Accuracy**"
   ]
  },
  {
   "cell_type": "code",
   "execution_count": 23,
   "id": "5a8c18d4",
   "metadata": {
    "execution": {
     "iopub.execute_input": "2021-11-23T13:32:09.802292Z",
     "iopub.status.busy": "2021-11-23T13:32:09.801571Z",
     "iopub.status.idle": "2021-11-23T13:32:09.807295Z",
     "shell.execute_reply": "2021-11-23T13:32:09.807922Z",
     "shell.execute_reply.started": "2021-11-23T12:58:41.052617Z"
    },
    "id": "fpqeGK4TIdD-",
    "outputId": "64236d97-05fa-4642-af6e-db3f4e033185",
    "papermill": {
     "duration": 0.048919,
     "end_time": "2021-11-23T13:32:09.808122",
     "exception": false,
     "start_time": "2021-11-23T13:32:09.759203",
     "status": "completed"
    },
    "tags": []
   },
   "outputs": [
    {
     "name": "stdout",
     "output_type": "stream",
     "text": [
      "Accuarcy: 94.95\n"
     ]
    }
   ],
   "source": [
    "from sklearn.metrics import accuracy_score\n",
    "print(\"Accuarcy: {}\".format(round(accuracy_score(y_test, y_pred)*100,2)))"
   ]
  },
  {
   "cell_type": "markdown",
   "id": "0337bca0",
   "metadata": {
    "id": "xZCED1Onv7-e",
    "papermill": {
     "duration": 0.039745,
     "end_time": "2021-11-23T13:32:09.889589",
     "exception": false,
     "start_time": "2021-11-23T13:32:09.849844",
     "status": "completed"
    },
    "tags": []
   },
   "source": [
    "**Confusion matrix in a well plotted chart**"
   ]
  },
  {
   "cell_type": "code",
   "execution_count": 24,
   "id": "ee8a2cfb",
   "metadata": {
    "execution": {
     "iopub.execute_input": "2021-11-23T13:32:09.973305Z",
     "iopub.status.busy": "2021-11-23T13:32:09.972598Z",
     "iopub.status.idle": "2021-11-23T13:32:10.116626Z",
     "shell.execute_reply": "2021-11-23T13:32:10.117193Z",
     "shell.execute_reply.started": "2021-11-23T12:58:41.073076Z"
    },
    "id": "4fEFCDDwvJQD",
    "papermill": {
     "duration": 0.187559,
     "end_time": "2021-11-23T13:32:10.117392",
     "exception": false,
     "start_time": "2021-11-23T13:32:09.929833",
     "status": "completed"
    },
    "tags": []
   },
   "outputs": [],
   "source": [
    "import seaborn as sns\n",
    "import matplotlib.pyplot as plt"
   ]
  },
  {
   "cell_type": "code",
   "execution_count": 25,
   "id": "925998c0",
   "metadata": {
    "execution": {
     "iopub.execute_input": "2021-11-23T13:32:10.224371Z",
     "iopub.status.busy": "2021-11-23T13:32:10.223660Z",
     "iopub.status.idle": "2021-11-23T13:32:10.444139Z",
     "shell.execute_reply": "2021-11-23T13:32:10.444665Z",
     "shell.execute_reply.started": "2021-11-23T12:58:41.213607Z"
    },
    "id": "_sU_egMPveut",
    "outputId": "8a72c8a2-c512-475d-8017-8681241e0d2d",
    "papermill": {
     "duration": 0.287579,
     "end_time": "2021-11-23T13:32:10.444838",
     "exception": false,
     "start_time": "2021-11-23T13:32:10.157259",
     "status": "completed"
    },
    "tags": []
   },
   "outputs": [
    {
     "data": {
      "image/png": "[encoded data removed]",
      "text/plain": [
       "<Figure size 432x288 with 2 Axes>"
      ]
     },
     "metadata": {
      "needs_background": "light"
     },
     "output_type": "display_data"
    }
   ],
   "source": [
    "new_cm = pd.DataFrame(cm , index = ['Fake','Not Fake'] , columns = ['Fake','Not Fake'])\n",
    "sns.heatmap(new_cm,cmap= 'Blues', annot = True, fmt='',xticklabels = ['Fake','Not Fake'], yticklabels = ['Fake','Not Fake'])\n",
    "plt.xlabel(\"Actual\")\n",
    "plt.ylabel(\"Predicted\")\n",
    "plt.title('Confusion matrix On Test Data')\n",
    "plt.show()"
   ]
  },
  {
   "cell_type": "markdown",
   "id": "5562fba4",
   "metadata": {
    "papermill": {
     "duration": 0.040115,
     "end_time": "2021-11-23T13:32:10.525588",
     "exception": false,
     "start_time": "2021-11-23T13:32:10.485473",
     "status": "completed"
    },
    "tags": []
   },
   "source": [
   ]
  }
 ],
 "metadata": {
  "kernelspec": {
   "display_name": "Python 3",
   "language": "python",
   "name": "python3"
  },
  "language_info": {
   "codemirror_mode": {
    "name": "ipython",
    "version": 3
   },
   "file_extension": ".py",
   "mimetype": "text/x-python",
   "name": "python",
   "nbconvert_exporter": "python",
   "pygments_lexer": "ipython3",
   "version": "3.7.10"
  },
  "papermill": {
   "default_parameters": {},
   "duration": 123.335451,
   "end_time": "2021-11-23T13:32:11.377721",
   "environment_variables": {},
   "exception": null,
   "input_path": "__notebook__.ipynb",
   "output_path": "__notebook__.ipynb",
   "parameters": {},
   "start_time": "2021-11-23T13:30:08.042270",
   "version": "2.3.3"
  }
 },
 "nbformat": 4,
 "nbformat_minor": 5
}
